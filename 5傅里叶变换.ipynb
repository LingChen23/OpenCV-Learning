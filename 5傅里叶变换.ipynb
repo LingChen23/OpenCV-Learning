{
 "cells": [
  {
   "cell_type": "markdown",
   "id": "66a0728d-5052-4769-a593-c6e39dd6836b",
   "metadata": {},
   "source": [
    "# 傅里叶变换\n",
    "## 1-傅里叶概述\n",
    "### 傅里叶变换的作用\n",
    "- 高频：变化剧烈的灰度分量，例如边界\n",
    "- 低频：变化缓慢的灰度分量，例如一片大海\n",
    "### 滤波\n",
    "- 低通滤波器：只保留低频，会使得图像模糊\n",
    "- 高通滤波器：只保留高频，会使得图像细节增强"
   ]
  },
  {
   "cell_type": "code",
   "execution_count": null,
   "id": "53da9139-a43d-407b-9f2f-f446b5ad4eae",
   "metadata": {},
   "outputs": [],
   "source": [
    "import cv2 #opencv读取格式BGR\n",
    "import matplotlib.pyplot as plt\n",
    "import numpy as np\n",
    "%matplotlib inline\n",
    "\n",
    "img = cv2.imread('lena.jpg', 0) #读取图像\n",
    "\n",
    "img_float32 = np.float32(img)\n",
    "\n",
    "dft = cv2.dft(img_float32, flags = cv2.DFT_COMPLEX_OUTPUT)\n",
    "dft_shift = np.fft.fftshift(dft)\n",
    "\n"
   ]
  }
 ],
 "metadata": {
  "kernelspec": {
   "display_name": "Python 3 (ipykernel)",
   "language": "python",
   "name": "python3"
  },
  "language_info": {
   "codemirror_mode": {
    "name": "ipython",
    "version": 3
   },
   "file_extension": ".py",
   "mimetype": "text/x-python",
   "name": "python",
   "nbconvert_exporter": "python",
   "pygments_lexer": "ipython3",
   "version": "3.12.7"
  }
 },
 "nbformat": 4,
 "nbformat_minor": 5
}
