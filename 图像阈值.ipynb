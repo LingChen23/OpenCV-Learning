{
 "cells": [
  {
   "cell_type": "code",
   "execution_count": null,
   "id": "e603075b-2773-4d70-8698-0118042a1d50",
   "metadata": {},
   "outputs": [],
   "source": []
  }
 ],
 "metadata": {
  "kernelspec": {
   "display_name": "",
   "name": ""
  },
  "language_info": {
   "name": ""
  }
 },
 "nbformat": 4,
 "nbformat_minor": 5
}
