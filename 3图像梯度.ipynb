{
 "cells": [
  {
   "cell_type": "code",
   "execution_count": 1,
   "id": "e603075b-2773-4d70-8698-0118042a1d50",
   "metadata": {},
   "outputs": [],
   "source": [
    "import cv2 #opencv读取格式BGR\n",
    "import matplotlib.pyplot as plt\n",
    "import numpy as np\n",
    "%matplotlib inline\n",
    "\n",
    "pie = cv2.imread('pie.png')\n",
    "\n",
    "cv2.imshow('pie', pie)\n",
    "cv2.waitKey(0)\n",
    "cv2.destroyAllWindows()"
   ]
  },
  {
   "cell_type": "markdown",
   "id": "a1799a17-f605-49ec-af2c-7f91ce860e19",
   "metadata": {},
   "source": [
    "## 1-Sobel算子\n",
    "- Gx, Gy:右 - 左， 下 - 上"
   ]
  },
  {
   "cell_type": "code",
   "execution_count": 42,
   "id": "15251947-ce7a-4303-945d-41f4997d2a3b",
   "metadata": {},
   "outputs": [],
   "source": [
    "def cv_show(name, img):\n",
    "    cv2.imshow(name,img)\n",
    "    #等待时间毫秒级，0表示任意键终止\n",
    "    cv2.waitKey(0)\n",
    "    cv2.destroyAllWindows()"
   ]
  },
  {
   "cell_type": "code",
   "execution_count": 7,
   "id": "9cf5e745-ea35-4b15-8112-273f436e0743",
   "metadata": {},
   "outputs": [],
   "source": [
    "sobelx = cv2.Sobel(pie, cv2.CV_64F, 1, 0, ksize = 3)\n",
    "\n",
    "cv_show('sobelx', sobelx)"
   ]
  },
  {
   "cell_type": "markdown",
   "id": "e1932b11-8d67-437a-81c6-3992cbfea777",
   "metadata": {},
   "source": [
    "## 2-梯度计算方法\n",
    "负数会被截断成0，所以要取绝对值（右-左）"
   ]
  },
  {
   "cell_type": "code",
   "execution_count": 13,
   "id": "dea19936-0325-4e7d-8e51-bca1f337931a",
   "metadata": {},
   "outputs": [],
   "source": [
    "sobelx = cv2.Sobel(pie, cv2.CV_64F, 1, 0, ksize = 3)\n",
    "sobelx = cv2.convertScaleAbs(sobelx)\n",
    "\n",
    "cv_show('sobelx', sobelx)"
   ]
  },
  {
   "cell_type": "code",
   "execution_count": 12,
   "id": "f58b7b1c-a120-4fc3-b79e-a09df6d003d5",
   "metadata": {},
   "outputs": [],
   "source": [
    "sobely = cv2.Sobel(pie, cv2.CV_64F, 0, 1, ksize = 3)\n",
    "sobely = cv2.convertScaleAbs(sobely)\n",
    "\n",
    "cv_show('sobelx', sobely)"
   ]
  },
  {
   "cell_type": "markdown",
   "id": "d2eadfda-768c-40ed-ba58-52b51e2a69db",
   "metadata": {},
   "source": [
    "分别计算x和y，再求和"
   ]
  },
  {
   "cell_type": "code",
   "execution_count": 18,
   "id": "54aaab43-befc-4822-9bcc-c92754fd8ff8",
   "metadata": {},
   "outputs": [],
   "source": [
    "sobelxy = cv2.addWeighted(sobelx, 0.5, sobely, 0.5, 0)\n",
    "cv_show('so', sobelxy)"
   ]
  },
  {
   "cell_type": "markdown",
   "id": "2d31a7de-8bb9-41f0-99a4-77f623380b42",
   "metadata": {},
   "source": [
    "不建议直接计算"
   ]
  },
  {
   "cell_type": "code",
   "execution_count": 19,
   "id": "f9c66ce6-ec9f-4f9e-b6a3-723c1dbc6be7",
   "metadata": {},
   "outputs": [],
   "source": [
    "sobely = cv2.Sobel(pie, cv2.CV_64F, 1, 1, ksize = 3)\n",
    "sobely = cv2.convertScaleAbs(sobely)\n",
    "\n",
    "cv_show('sobelx', sobely)"
   ]
  },
  {
   "cell_type": "code",
   "execution_count": 32,
   "id": "58eb220f-0696-42ff-8521-4f2182404eab",
   "metadata": {},
   "outputs": [],
   "source": [
    "pie = cv2.imread('lena.jpg', cv2.IMREAD_GRAYSCALE)\n",
    "\n",
    "cv2.imshow('pie', pie)\n",
    "cv2.waitKey(0)\n",
    "cv2.destroyAllWindows()"
   ]
  },
  {
   "cell_type": "code",
   "execution_count": 35,
   "id": "8630a94d-d3d7-4d2f-bd0b-9fe4c1535778",
   "metadata": {},
   "outputs": [],
   "source": [
    "sobelx = cv2.Sobel(pie, cv2.CV_64F, 1, 0, ksize = 3)\n",
    "sobelx = cv2.convertScaleAbs(sobelx)\n",
    "\n",
    "cv_show('sobelx', sobelx)"
   ]
  },
  {
   "cell_type": "code",
   "execution_count": 36,
   "id": "46839f6e-5514-47be-bb11-c077d0d064c7",
   "metadata": {},
   "outputs": [],
   "source": [
    "sobely = cv2.Sobel(pie, cv2.CV_64F, 0, 1, ksize = 3)\n",
    "sobely = cv2.convertScaleAbs(sobely)\n",
    "\n",
    "cv_show('sobelx', sobely)"
   ]
  },
  {
   "cell_type": "code",
   "execution_count": 37,
   "id": "4498a7e5-ad76-4676-9392-977f93daf4e8",
   "metadata": {},
   "outputs": [],
   "source": [
    "sobelxy = cv2.addWeighted(sobelx, 0.5, sobely, 0.5, 0)\n",
    "cv_show('so', sobelxy)"
   ]
  },
  {
   "cell_type": "code",
   "execution_count": 34,
   "id": "58fd26ef-5115-4e09-b85f-a0165c8d6484",
   "metadata": {},
   "outputs": [],
   "source": [
    "sobely = cv2.Sobel(pie, cv2.CV_64F, 1, 1, ksize = 3)\n",
    "sobely = cv2.convertScaleAbs(sobely)\n",
    "\n",
    "cv_show('sobelx', sobely)"
   ]
  },
  {
   "cell_type": "markdown",
   "id": "d18423f3-cf84-4597-a5d8-6a2554cfb26b",
   "metadata": {},
   "source": [
    "## 3-scharr与lapkacian算子\n",
    "- scharr 更细致\n",
    "- lapkacian 导数，效果一般和工具一起使用"
   ]
  },
  {
   "cell_type": "code",
   "execution_count": 40,
   "id": "98b2a12a-dca8-4ee5-92ab-eea2ce8bcf44",
   "metadata": {},
   "outputs": [],
   "source": [
    "#不同算子的差异\n",
    "scharrx = cv2.Scharr(pie, cv2.CV_64F, 1, 0)\n",
    "scharry = cv2.Scharr(pie, cv2.CV_64F, 0, 1)\n",
    "scharrx = cv2.convertScaleAbs(scharrx)\n",
    "scharry = cv2.convertScaleAbs(scharry)\n",
    "scharrxy = cv2.addWeighted(scharrx, 0.5, scharry, 0.5, 0)\n",
    "\n",
    "laplacian = cv2.Laplacian(pie, cv2.CV_64F)\n",
    "laplacian = cv2.convertScaleAbs(laplacian)\n",
    "\n",
    "res = np.hstack((sobelxy, scharrxy, laplacian))\n",
    "cv_show('res', res)"
   ]
  },
  {
   "cell_type": "markdown",
   "id": "e3db51e7-6a6c-47a3-915d-25d0b9d963ec",
   "metadata": {},
   "source": [
    "## 1-Canny边缘检测流程\n",
    "- 1）使用高斯滤波，以平滑图像，滤除噪声。\n",
    "- 2）计算图像中每个像素点的梯度强度和方向。\n",
    "- 3）应用非极大值抑制，以消除边缘检测带来的杂散响应。\n",
    "- 4）应用双阈值检测来确定真实的和潜在的边缘。\n",
    "- 5）通过抑制孤立的弱边缘最终完成边缘检测。"
   ]
  },
  {
   "cell_type": "code",
   "execution_count": 48,
   "id": "f78513d1-e1c5-41e4-8135-64b4039e7e7c",
   "metadata": {},
   "outputs": [],
   "source": [
    "img = cv2.imread('lena.jpg', cv2.IMREAD_GRAYSCALE)\n",
    "\n",
    "v1 = cv2.Canny(img, 180, 250)\n",
    "v2 = cv2.Canny(img, 50, 100)\n",
    "\n",
    "res = np.hstack((v1, v2))\n",
    "cv_show('res', res)"
   ]
  },
  {
   "cell_type": "code",
   "execution_count": 49,
   "id": "9b895753-3bb0-4032-aae8-8c7b33dcb9a3",
   "metadata": {},
   "outputs": [],
   "source": [
    "img = cv2.imread('car.png', cv2.IMREAD_GRAYSCALE)\n",
    "\n",
    "v1 = cv2.Canny(img, 180, 250)\n",
    "v2 = cv2.Canny(img, 50, 100)\n",
    "\n",
    "res = np.hstack((v1, v2))\n",
    "cv_show('res', res)"
   ]
  },
  {
   "cell_type": "markdown",
   "id": "34c7ff1b-de9c-4cb9-b823-5cb8b9d856fe",
   "metadata": {},
   "source": [
    "# 图像金字塔\n",
    "## 1-图像金字塔定义\n",
    "###  高斯金字塔\n",
    "####   向下采样法（缩小）\n",
    "- 将Gi与高斯内核卷积\n",
    "- 将所有偶数行和列去除\n",
    "####   向上采样法（放大）\n",
    "- 将图像在每个方向扩大为原来的两倍，新增的行和列以0填充\n",
    "- 使用先前同样的内核（乘以4）与放大后的图像卷积，获得近似值\n",
    "- 拉普拉斯金字塔\n",
    "###  拉普拉斯金字塔\n",
    "- Li = Gi - PyrUp(PyrDown(Gi))\n",
    "- 低通滤波、缩小尺寸、放大尺寸、图像相减"
   ]
  },
  {
   "cell_type": "markdown",
   "id": "cdf15a45-fc1b-47a8-a298-a1731af74d4e",
   "metadata": {},
   "source": [
    "## 2-金字塔制作方法"
   ]
  },
  {
   "cell_type": "code",
   "execution_count": 50,
   "id": "7ef58488-9905-49f1-8701-9b1a882a1366",
   "metadata": {},
   "outputs": [
    {
     "name": "stdout",
     "output_type": "stream",
     "text": [
      "(442, 340, 3)\n"
     ]
    }
   ],
   "source": [
    "img = cv2.imread('AM.png')\n",
    "\n",
    "cv_show('res', img)\n",
    "print(img.shape)"
   ]
  },
  {
   "cell_type": "code",
   "execution_count": 55,
   "id": "c2f641c9-e98e-4e55-b87f-83c84d368ea6",
   "metadata": {},
   "outputs": [
    {
     "name": "stdout",
     "output_type": "stream",
     "text": [
      "(884, 680, 3)\n"
     ]
    }
   ],
   "source": [
    "# 上采样\n",
    "up = cv2.pyrUp(img)\n",
    "cv_show('up', up)\n",
    "print(up.shape)"
   ]
  },
  {
   "cell_type": "code",
   "execution_count": 56,
   "id": "ba72555e-becf-422d-9d60-6997e481be7a",
   "metadata": {},
   "outputs": [
    {
     "name": "stdout",
     "output_type": "stream",
     "text": [
      "(221, 170, 3)\n"
     ]
    }
   ],
   "source": [
    "# 下采样\n",
    "down = cv2.pyrDown(img)\n",
    "cv_show('down', down)\n",
    "print(down.shape)"
   ]
  },
  {
   "cell_type": "code",
   "execution_count": 58,
   "id": "358ec4fc-ee06-4bb1-937b-ceca554a7385",
   "metadata": {},
   "outputs": [
    {
     "name": "stdout",
     "output_type": "stream",
     "text": [
      "(1768, 1360, 3)\n"
     ]
    }
   ],
   "source": [
    "# 上采样\n",
    "up2 = cv2.pyrUp(up)\n",
    "cv_show('up2', up2)\n",
    "print(up2.shape)"
   ]
  },
  {
   "cell_type": "code",
   "execution_count": 60,
   "id": "4de3cca0-471f-45d9-9075-bdfc82b43b4b",
   "metadata": {},
   "outputs": [],
   "source": [
    "up_down = cv2.pyrDown(up)\n",
    "cv_show('up_down', np.hstack((img, up_down)))"
   ]
  },
  {
   "cell_type": "code",
   "execution_count": 61,
   "id": "d2c72a8e-5b94-4279-b946-0b65da6209ed",
   "metadata": {},
   "outputs": [],
   "source": [
    "cv_show('img-up_down', img-up_down)"
   ]
  },
  {
   "cell_type": "code",
   "execution_count": 63,
   "id": "fe70de93-d463-4646-8535-724d436cd183",
   "metadata": {},
   "outputs": [],
   "source": [
    "# 拉普拉斯金字塔\n",
    "\n",
    "down = cv2.pyrDown(img)\n",
    "down_up = cv2.pyrUp(down)\n",
    "\n",
    "l_1 = img - down_up\n",
    "cv_show('l_1', l_1)"
   ]
  },
  {
   "cell_type": "markdown",
   "id": "8e168eb9-3a6a-4118-b560-825800e7872f",
   "metadata": {},
   "source": [
    "# 图像轮廓\n",
    "## 1-轮廓检测算法"
   ]
  },
  {
   "cell_type": "code",
   "execution_count": 82,
   "id": "dcdfa8a7-40b3-4765-849c-783f314b0fc1",
   "metadata": {},
   "outputs": [],
   "source": [
    "img = cv2.imread('contours.png')\n",
    "gray = cv2.cvtColor(img, cv2.COLOR_BGR2GRAY)\n",
    "ret, thresh = cv2.threshold(gray, 127, 255, cv2.THRESH_BINARY)\n",
    "cv_show('t', thresh)"
   ]
  },
  {
   "cell_type": "code",
   "execution_count": 83,
   "id": "19fa235a-087b-4fde-a6e9-16929f72f9da",
   "metadata": {},
   "outputs": [],
   "source": [
    "contours, hieraychy = cv2.findContours(thresh, cv2.RETR_TREE, cv2.CHAIN_APPROX_NONE)"
   ]
  },
  {
   "cell_type": "markdown",
   "id": "221230a2-0e0c-4eb7-93dc-b6f67a9413c1",
   "metadata": {},
   "source": [
    "## 2-轮廓检测结果"
   ]
  },
  {
   "cell_type": "code",
   "execution_count": 90,
   "id": "eaa208b3-57f7-4704-b912-1bb875a72518",
   "metadata": {},
   "outputs": [],
   "source": [
    "# 传入绘制图像，轮廓 轮廓索引 颜色模式 线条厚度\n",
    "# 注意需要copy要不原图会变。。\n",
    "draw_img = img.copy() \n",
    "res = cv2.drawContours(draw_img, contours, 2, (0, 0, 255), 2) #原图像 轮廓 -1指全部 BGR 宽度\n",
    "cv_show('res', res)"
   ]
  },
  {
   "cell_type": "code",
   "execution_count": 86,
   "id": "267b9629-e854-43e3-8687-c69a4e527882",
   "metadata": {},
   "outputs": [],
   "source": [
    "cv_show('t', img)"
   ]
  },
  {
   "cell_type": "markdown",
   "id": "21fbc1f6-36a5-4598-96c1-aa712503cd6c",
   "metadata": {},
   "source": [
    "## 3-轮廓特征与相似\n",
    "### 轮廓特征"
   ]
  },
  {
   "cell_type": "code",
   "execution_count": 91,
   "id": "9942d17d-d2e0-49ba-8c6b-3d79baeb0a33",
   "metadata": {},
   "outputs": [],
   "source": [
    "cnt = contours[0]"
   ]
  },
  {
   "cell_type": "code",
   "execution_count": 92,
   "id": "bace82c0-cfcd-42c9-93ae-60137f24d63a",
   "metadata": {},
   "outputs": [
    {
     "data": {
      "text/plain": [
       "8500.5"
      ]
     },
     "execution_count": 92,
     "metadata": {},
     "output_type": "execute_result"
    }
   ],
   "source": [
    "# 面积\n",
    "cv2.contourArea(cnt)"
   ]
  },
  {
   "cell_type": "code",
   "execution_count": 93,
   "id": "9ce966b9-7930-4049-92e2-a0141fbb3c4f",
   "metadata": {},
   "outputs": [
    {
     "data": {
      "text/plain": [
       "437.9482651948929"
      ]
     },
     "execution_count": 93,
     "metadata": {},
     "output_type": "execute_result"
    }
   ],
   "source": [
    "#周长\n",
    "cv2.arcLength(cnt, True)"
   ]
  },
  {
   "cell_type": "markdown",
   "id": "91564de2-448c-4ddc-b915-2a26707ee916",
   "metadata": {},
   "source": [
    "### 轮廓近似"
   ]
  },
  {
   "cell_type": "code",
   "execution_count": 131,
   "id": "3e1d2da0-ffa7-437f-83aa-1fc6f9d9de98",
   "metadata": {},
   "outputs": [],
   "source": [
    "img= cv2.imread('contours2.png')\n",
    "gray = cv2.cvtColor(img, cv2.COLOR_BGR2GRAY) #灰度图\n",
    "# 二值\n",
    "ret, thresh = cv2.threshold(gray, 127, 255, cv2.THRESH_BINARY)\n",
    "contours, hieraychy = cv2.findContours(thresh, cv2.RETR_TREE, cv2.CHAIN_APPROX_NONE)\n",
    "cnt = contours[1]\n",
    "\n",
    "draw_img1 = img.copy() \n",
    "res = cv2.drawContours(draw_img1, [cnt], -1, (0, 0, 255), 2) #原图像 轮廓 -1指全部 BGR 宽度\n",
    "cv_show('res', res)"
   ]
  },
  {
   "cell_type": "code",
   "execution_count": 129,
   "id": "115aa08d-7007-4d49-aca2-15e8d26a164e",
   "metadata": {},
   "outputs": [],
   "source": [
    "img1= cv2.imread('contours.png')\n",
    "epsilon = 0.01*cv2.arcLength(cnt, True)\n",
    "approx = cv2.approxPolyDP(cnt, epsilon, True)\n",
    "\n",
    "draw_img1 = img1.copy() \n",
    "res1 = cv2.drawContours(draw_img1, [approx], -1, (0, 0, 255), 2) #原图像 轮廓 -1指全部 BGR 宽度\n",
    "cv_show('res1', res1)"
   ]
  },
  {
   "cell_type": "markdown",
   "id": "834fbb3c-122d-4b1b-9b4d-872054aabe49",
   "metadata": {},
   "source": [
    "### 边界矩形"
   ]
  },
  {
   "cell_type": "code",
   "execution_count": 137,
   "id": "1fc577ea-9104-43d0-9f71-ad92366b85a8",
   "metadata": {},
   "outputs": [],
   "source": [
    "img = cv2.imread('contours.png')\n",
    "gray = cv2.cvtColor(img, cv2.COLOR_BGR2GRAY) #灰度图\n",
    "contours, hieraychy = cv2.findContours(gray, cv2.RETR_TREE, cv2.CHAIN_APPROX_NONE)\n",
    "cnt = contours[2]\n",
    "\n",
    "x,y,w,h = cv2.boundingRect(cnt)\n",
    "img = cv2.rectangle(img, (x, y), (x + w, y +h),  (0, 255, 0), 2)\n",
    "\n",
    "cv_show('res', img)"
   ]
  },
  {
   "cell_type": "code",
   "execution_count": 110,
   "id": "bfe01400-662c-49f4-97e1-d976fb5b87c6",
   "metadata": {},
   "outputs": [
    {
     "name": "stdout",
     "output_type": "stream",
     "text": [
      "轮廓面积与边界矩形比 0.7800798598378357\n"
     ]
    }
   ],
   "source": [
    "area = cv2.contourArea(cnt)\n",
    "\n",
    "x,y,w,h = cv2.boundingRect(cnt)\n",
    "rect_area = w * h\n",
    "extent = float(area) / rect_area\n",
    "\n",
    "print('轮廓面积与边界矩形比', extent)"
   ]
  },
  {
   "cell_type": "markdown",
   "id": "ec360a09-74e0-4218-a653-e7a72b8eb782",
   "metadata": {},
   "source": [
    "### 外接圆"
   ]
  },
  {
   "cell_type": "code",
   "execution_count": 138,
   "id": "765446da-37df-4690-b7df-9dc7d2108019",
   "metadata": {},
   "outputs": [],
   "source": [
    "(x, y), radius = cv2.minEnclosingCircle(cnt)\n",
    "center = (int(x), int(y))\n",
    "radius = int(radius)\n",
    "img = cv2.circle(img, center, radius, (0, 255, 0), 2)\n",
    "cv_show('res', img)"
   ]
  },
  {
   "cell_type": "code",
   "execution_count": null,
   "id": "d1150f73-ea8d-4da1-8ada-a2db53348327",
   "metadata": {},
   "outputs": [],
   "source": []
  }
 ],
 "metadata": {
  "kernelspec": {
   "display_name": "Python 3 (ipykernel)",
   "language": "python",
   "name": "python3"
  },
  "language_info": {
   "codemirror_mode": {
    "name": "ipython",
    "version": 3
   },
   "file_extension": ".py",
   "mimetype": "text/x-python",
   "name": "python",
   "nbconvert_exporter": "python",
   "pygments_lexer": "ipython3",
   "version": "3.12.7"
  }
 },
 "nbformat": 4,
 "nbformat_minor": 5
}
